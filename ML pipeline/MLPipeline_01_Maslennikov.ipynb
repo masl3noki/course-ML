{
  "cells": [
    {
      "cell_type": "markdown",
      "metadata": {
        "id": "NkG0r1iI9m5m"
      },
      "source": [
        "*Credits: materials from this notebook belong to YSDA [Practical DL](https://github.com/yandexdataschool/Practical_DL) course. Special thanks for making them available online.*"
      ]
    },
    {
      "cell_type": "markdown",
      "metadata": {},
      "source": [
        "Maslennikov Nikita, MIPT student [github](https://github.com/masl3noki)"
      ]
    },
    {
      "cell_type": "markdown",
      "metadata": {
        "id": "FbUnKFWk9m5p"
      },
      "source": [
        "# Lab assignment №1, part 1\n",
        "\n",
        "This lab assignment consists of several parts. You are supposed to make some transformations, train some models, estimate the quality of the models and explain your results.\n",
        "\n",
        "Several comments:\n",
        "* Don't hesitate to ask questions, it's a good practice.\n",
        "* No private/public sharing, please. The copied assignments will be graded with 0 points.\n",
        "* Blocks of this lab will be graded separately."
      ]
    },
    {
      "cell_type": "markdown",
      "metadata": {
        "id": "wj-tC4jf9m5q"
      },
      "source": [
        "## 1. Matrix differentiation"
      ]
    },
    {
      "cell_type": "markdown",
      "metadata": {
        "id": "YBYNsPrW9m5q"
      },
      "source": [
        "Since it easy to google every task please please please try to undestand what's going on. The \"just answer\" thing will be not counted, make sure to present derivation of your solution. It is absolutely OK if you found an answer on web then just exercise in $\\LaTeX$ copying it into here."
      ]
    },
    {
      "cell_type": "markdown",
      "metadata": {
        "id": "kOxbXrCJ9m5r"
      },
      "source": [
        "\n",
        "\n",
        "```\n",
        "# Выбран кодовый формат\n",
        "```\n",
        "\n",
        "Useful links:\n",
        "[1](http://www.machinelearning.ru/wiki/images/2/2a/Matrix-Gauss.pdf)\n",
        "[2](http://www.atmos.washington.edu/~dennis/MatrixCalculus.pdf)"
      ]
    },
    {
      "cell_type": "markdown",
      "metadata": {
        "id": "40qV1Ghh9m5r"
      },
      "source": [
        "## ex. 1"
      ]
    },
    {
      "cell_type": "markdown",
      "metadata": {
        "id": "OgC0u3aN9m5r"
      },
      "source": [
        "$$  \n",
        "y = x^Tx,  \\quad x \\in \\mathbb{R}^N\n",
        "$$"
      ]
    },
    {
      "cell_type": "markdown",
      "metadata": {
        "id": "bXQswPrg9m5s"
      },
      "source": [
        "$$\n",
        "\\frac{dy}{dx} = \\frac{d(x^Tx)}{dx} = \\frac{d(x^TEx)}{dx} = (E+E^T)x = 2Ex = 2x,\n",
        "$$\n",
        "\n",
        "where $$ \\frac{d(x^TEx)}{dx} = (E+E^T)x $$ as written in file [1](http://www.machinelearning.ru/wiki/images/2/2a/Matrix-Gauss.pdf)"
      ]
    },
    {
      "cell_type": "code",
      "execution_count": null,
      "metadata": {
        "collapsed": true,
        "id": "Z6OZkevT9m5s",
        "jupyter": {
          "outputs_hidden": true
        }
      },
      "outputs": [],
      "source": []
    },
    {
      "cell_type": "markdown",
      "metadata": {
        "id": "91k1Xjjn9m5s"
      },
      "source": [
        "## ex. 2"
      ]
    },
    {
      "cell_type": "markdown",
      "metadata": {
        "id": "bHtG91Qd9m5t"
      },
      "source": [
        "$$ y = tr(AB) \\quad A,B \\in \\mathbb{R}^{N \\times N} $$"
      ]
    },
    {
      "cell_type": "markdown",
      "metadata": {
        "id": "2xNNxOAh9m5t"
      },
      "source": [
        "$$\n",
        "\\frac{dy}{dA} = \\frac{d(tr(AB))}{dA} = B^T\n",
        "$$"
      ]
    },
    {
      "cell_type": "code",
      "execution_count": null,
      "metadata": {
        "collapsed": true,
        "id": "NBoInBJl9m5t",
        "jupyter": {
          "outputs_hidden": true
        }
      },
      "outputs": [],
      "source": []
    },
    {
      "cell_type": "markdown",
      "metadata": {
        "id": "HrsGmVh89m5t"
      },
      "source": [
        "## ex. 3"
      ]
    },
    {
      "cell_type": "markdown",
      "metadata": {
        "id": "AxCoJJKq9m5t"
      },
      "source": [
        "$$  \n",
        "y = x^TAc , \\quad A\\in \\mathbb{R}^{N \\times N}, x\\in \\mathbb{R}^{N}, c\\in \\mathbb{R}^{N}\n",
        "$$"
      ]
    },
    {
      "cell_type": "markdown",
      "metadata": {
        "id": "KpZVllvP9m5t"
      },
      "source": [
        "$$\n",
        "\\frac{dy}{dx} = \\frac{d(x^TAc)}{dx} = \\frac{d(x^TAc)}{dA} * \\frac{dA}{dx} = xc^T * \\frac{dA}{dx}\n",
        "$$"
      ]
    },
    {
      "cell_type": "markdown",
      "metadata": {
        "id": "KmyYcx-n9m5t"
      },
      "source": [
        "$$\n",
        "\\frac{dy}{dA} = \\frac{d(x^TAc)}{dA} = xc^T\n",
        "$$"
      ]
    },
    {
      "cell_type": "markdown",
      "metadata": {
        "id": "-vqebF6g9m5t"
      },
      "source": [
        "Hint for the latter (one of the ways): use *ex. 2* result and the fact\n",
        "$$\n",
        "tr(ABC) = tr (CAB)\n",
        "$$"
      ]
    },
    {
      "cell_type": "code",
      "execution_count": null,
      "metadata": {
        "collapsed": true,
        "id": "wG4FkNQc9m5u",
        "jupyter": {
          "outputs_hidden": true
        }
      },
      "outputs": [],
      "source": []
    },
    {
      "cell_type": "markdown",
      "metadata": {
        "id": "koN8C6vv9m5u"
      },
      "source": [
        "## ex. 4"
      ]
    },
    {
      "cell_type": "markdown",
      "metadata": {
        "id": "v8ROy4JE9m5u"
      },
      "source": [
        "Classic matrix factorization example. Given matrix $X$ you need to find $A$, $S$ to approximate $X$. This can be done by simple gradient descent iteratively alternating $A$ and $S$ updates.\n",
        "$$\n",
        "J = || X - AS ||_F^2  , \\quad A\\in \\mathbb{R}^{N \\times R} , \\quad S\\in \\mathbb{R}^{R \\times M}\n",
        "$$\n",
        "$$\n",
        "\\frac{dJ}{dS} = ?\n",
        "$$\n",
        "\n",
        "You may use one of the following approaches:"
      ]
    },
    {
      "cell_type": "markdown",
      "metadata": {
        "id": "SxhhnZy_9m5u"
      },
      "source": [
        "#### First approach\n",
        "Using ex.2 and the fact:\n",
        "$$\n",
        "|| X ||_F^2 = tr(XX^T)\n",
        "$$\n",
        "it is easy to derive gradients (you can find it in one of the refs)."
      ]
    },
    {
      "cell_type": "markdown",
      "metadata": {
        "id": "9OVIpCgc9m5u"
      },
      "source": [
        "#### Second approach\n",
        "You can use *slightly different techniques* if they suits you. Take a look at this derivation:\n",
        "<img src=\"https://github.com/girafe-ai/ml-course/blob/22f_basic/homeworks/lab01_ml_pipeline/grad.png?raw=1\">\n",
        "(excerpt from [Handbook of blind source separation, Jutten, page 517](https://books.google.ru/books?id=PTbj03bYH6kC&printsec=frontcover&dq=Handbook+of+Blind+Source+Separation&hl=en&sa=X&ved=0ahUKEwi-q_apiJDLAhULvXIKHVXJDWcQ6AEIHDAA#v=onepage&q=Handbook%20of%20Blind%20Source%20Separation&f=false), open for better picture)."
      ]
    },
    {
      "cell_type": "markdown",
      "metadata": {
        "id": "79PGP1cY9m5u"
      },
      "source": [
        "#### Third approach\n",
        "And finally we can use chain rule!\n",
        "let $ F = AS $\n",
        "\n",
        "**Find**\n",
        "$$\n",
        "\\frac{dJ}{dF} = \\frac{d(|| X - F ||_F^2)}{dF} = \\frac{d(tr(X-F)(X-F)^T)}{dF}\n",
        "= \\frac{d(tr(X-F)^T(X-F))}{dF}\n",
        "= \\\\ = \\frac{d(tr(X^T*X - X^T*F - F^T*X + F^T*F)}{dF}\n",
        "= \\\\ = \\frac{d(tr(X^T*X))}{dF} - \\frac{d(tr((X^T*F)^T))}{dF} - \\frac{d(tr(F^T*X))}{dF} + \\frac{d(tr(F*F^T))}{dF}\n",
        "= \\\\ = 0 - 2\\frac{d(tr(F^T*X))}{dF} + 2F = 2(F - X)\n",
        "$$\n",
        "\n",
        "and\n",
        "$$\n",
        "\\frac{dF}{dS} = \\frac{d(AS)}{dS} = A^T\n",
        "$$\n",
        "(the shape should be $ NM \\times RM )$.\n",
        "\n",
        "Now it is easy do get desired gradients:\n",
        "$$\n",
        "\\frac{dJ}{dS} =  2(AS-X) * A^T = 2ASA^T - 2XA^T\n",
        "$$"
      ]
    },
    {
      "cell_type": "markdown",
      "metadata": {
        "collapsed": true,
        "id": "2pPKlE479m5u",
        "jupyter": {
          "outputs_hidden": true
        }
      },
      "source": [
        "## 2. kNN questions\n",
        "Here come the questions from the assignment0_01. Please, refer to the assignment0_01 to get the context of the questions."
      ]
    },
    {
      "cell_type": "markdown",
      "metadata": {
        "id": "DgELSTyP9m5u"
      },
      "source": [
        "### Question 1\n",
        "\n",
        "Notice the structured patterns in the distance matrix, where some rows or columns are visible brighter. (Note that with the default color scheme black indicates low distances while white indicates high distances.)\n",
        "\n",
        "- What in the data is the cause behind the distinctly bright rows?\n",
        "- What causes the columns?\n",
        "\n",
        "*Your Answer:*\n",
        "\n",
        "1) Black color indicates low distances between points, and white color - far distances. Considering the plot (Y-axes for test samples, X-axis for train samples), we can assume that bright rows are so called \"mismatch rows\", where test data is located far from train data with similar label. In other words, if a test image is different from all the training images, the row will be bright.\n",
        "\n",
        "2) Similar causation: column will be bright if (almost) all training pictures would not match test pictures: if all of the test samples are different from a single train sample, we could get a bright column. In example, we could get a white column if one of our sample from train dataset will represent character \"~\".\n",
        "\n",
        "\n"
      ]
    },
    {
      "cell_type": "markdown",
      "metadata": {
        "id": "G7fBl59i9m5u"
      },
      "source": [
        "### Question 2\n",
        "\n",
        "We can also use other distance metrics such as L1 distance.\n",
        "For pixel values $p_{ij}^{(k)}$ at location $(i,j)$ of some image $I_k$,\n",
        "\n",
        "the mean $\\mu$ across all pixels over all images is $$\\mu=\\frac{1}{nhw}\\sum_{k=1}^n\\sum_{i=1}^{h}\\sum_{j=1}^{w}p_{ij}^{(k)} = \\frac{1}{hw}\\sum_{i=1}^{h}\\sum_{j=1}^{w} \\mu_{ij}$$\n",
        "And the pixel-wise mean $\\mu_{ij}$ across all images is\n",
        "$$\\mu_{ij}=\\frac{1}{n}\\sum_{k=1}^np_{ij}^{(k)}.$$\n",
        "The general standard deviation $\\sigma$ and pixel-wise standard deviation $\\sigma_{ij}$ is defined similarly.\n",
        "\n",
        "Which of the following preprocessing steps will not change the performance of a Nearest Neighbor classifier that uses L1 distance? Select all that apply.\n",
        "1. Subtracting the mean $\\mu$ ($\\tilde{p}_{ij}^{(k)}=p_{ij}^{(k)}-\\mu$.)\n",
        "2. Subtracting the per pixel mean $\\mu_{ij}$  ($\\tilde{p}_{ij}^{(k)}=p_{ij}^{(k)}-\\mu_{ij}$.)\n",
        "3. Subtracting the mean $\\mu$ and dividing by the standard deviation $\\sigma$.\n",
        "4. Subtracting the pixel-wise mean $\\mu_{ij}$ and dividing by the pixel-wise standard deviation $\\sigma_{ij}$.\n",
        "5. Rotating the coordinate axes of the data.\n",
        "\n",
        "*Your Answer:* 1, 2, 3\n",
        "\n",
        "*Your Explanation:*\n",
        "\n",
        "1. $\\mu$ will cancel out during distance computation because both pixel values are modified by the same constant:\n",
        "\n",
        "$$||\\tilde{p}_{ij}^{(k)} - \\tilde{p}_{ij}^{(k')}|| = ||({p}_{ij}^{(k)} - \\mu) - ({p}_{ij}^{(k)'} - \\mu)|| = ||{p}_{ij}^{(k)} - {p}_{ij}^{(k')}||$$\n",
        "\n",
        "2. same explanation:\n",
        "\n",
        "$$||\\tilde{p}_{ij}^{(k)} - \\tilde{p}_{ij}^{(k')}|| = ||({p}_{ij}^{(k)} - \\mu_{ij}) - ({p}_{ij}^{(k)'} - \\mu_{ij})|| = ||{p}_{ij}^{(k)} - {p}_{ij}^{(k')}||$$\n",
        "\n",
        "3. What would happen with this preprocessing step:\n",
        "\n",
        "$$||\\frac{({p}_{ij}^{(k)} - \\mu)}{\\sigma} - \\frac{({p}_{ij}^{(k')} - \\mu)}{\\sigma}|| = \\frac{1}{\\sigma} ||{p}_{ij}^{(k)} - {p}_{ij}^{(k')}||$$\n",
        "\n",
        "This only affects the scale of distances, therefore performance of NN classificator with $L_1$ norm will not be affected.\n",
        "\n",
        "4. However, implementing this preprocessing step will result in different scales of distances - model precision will be affected!\n",
        "\n",
        "5. Rotation. While $L_2$ distances wont be affected by this preprocessing step, $L_1$ distances will. It can be described by the following plots:"
      ]
    },
    {
      "cell_type": "code",
      "execution_count": 1,
      "metadata": {},
      "outputs": [
        {
          "data": {
            "text/html": [
              "<pre style=\"white-space:pre;overflow-x:auto;line-height:normal;font-family:Menlo,'DejaVu Sans Mono',consolas,'Courier New',monospace\">Manim Community <span style=\"color: #008000; text-decoration-color: #008000\">v0.18.0</span>\n",
              "\n",
              "</pre>\n"
            ],
            "text/plain": [
              "Manim Community \u001b[32mv0.\u001b[0m\u001b[32m18.0\u001b[0m\n",
              "\n"
            ]
          },
          "metadata": {},
          "output_type": "display_data"
        }
      ],
      "source": [
        "from manim import *"
      ]
    },
    {
      "cell_type": "code",
      "execution_count": 4,
      "metadata": {},
      "outputs": [
        {
          "data": {
            "image/png": "[encoded data removed]",
            "text/plain": [
              "<IPython.core.display.Image object>"
            ]
          },
          "metadata": {},
          "output_type": "display_data"
        }
      ],
      "source": [
        "%%manim -qm -v WARNING L1_noRotate\n",
        "\n",
        "class L1_noRotate(Scene):\n",
        "    def construct(self):\n",
        "        #self.camera.background_color = WHITE\n",
        "        dot = Dot(ORIGIN)\n",
        "\n",
        "        numberplane = NumberPlane()\n",
        "        origin_text = Text('(0, 0)').next_to(dot, DOWN)\n",
        "\n",
        "        ax_1 = Axes(\n",
        "            #axis_config={\"stroke_width\": 5, \"color\": BLACK},\n",
        "            x_range=[-10, 10, 5],\n",
        "            y_range=[-10, 10, 5],\n",
        "            x_length=10,\n",
        "            y_length=10,\n",
        "            tips=False,\n",
        "        )\n",
        "\n",
        "        x_vals = [0, 5, 0, -5, 0]\n",
        "        y_vals = [5, 0, -5, 0, 5]\n",
        "        graph_1 = ax_1.plot_line_graph(x_values=x_vals, y_values=y_vals, line_color=RED_C)\n",
        "\n",
        "        dot_1 = Dot((1.768, 1.768, 0), color=ORANGE)\n",
        "        dot_with_label_1 = Group(dot_1, Tex(\"A\", font_size=50).next_to(dot_1, RIGHT))\n",
        "        dot_2 = Dot((1.768, 0.7, 0), color=GREEN)\n",
        "        dot_with_label_2 = Group(dot_2, Tex(\"B\", font_size=50).next_to(dot_2, RIGHT))\n",
        "        dot_3 = Dot((1, 1.5, 0), color=GREEN)\n",
        "        dot_with_label_3 = Group(dot_3, Tex(\"C\", font_size=50).next_to(dot_3, LEFT))\n",
        "\n",
        "        self.add(numberplane)\n",
        "        self.add(ax_1, graph_1)\n",
        "        self.add(dot, origin_text)\n",
        "        self.add(dot_1, dot_2, dot_3)\n",
        "        self.add(dot_with_label_1, dot_with_label_2, dot_with_label_3)\n",
        "\n"
      ]
    },
    {
      "cell_type": "markdown",
      "metadata": {},
      "source": [
        "First plot is axis frame before rotation. Rectangle here (`red`) represents the line with similar distances from any point on that line to the `origin (0, 0)` point. That means that `green` points `B` and `C` have identical distance to the `origin (0, 0)` point, where `orange` point `A` in `Quadrant I` of Coordinate system.\n",
        "\n",
        "When we rotate the **local** axis (for `red` rectangle) by, i.e., 45 degrees, we'll get different line and distances to previous point will no longer be same. Consider the plot below. Here point `A` has color `green` now and color of point `B` remains the same: thats because if we recalculate `l1 norm` we will have same distances between `{A, B}` and the `origin (0, 0)` point. Point `C` is an outcast now!"
      ]
    },
    {
      "cell_type": "code",
      "execution_count": 116,
      "metadata": {},
      "outputs": [
        {
          "data": {
            "image/png": "[encoded data removed]",
            "text/plain": [
              "<IPython.core.display.Image object>"
            ]
          },
          "metadata": {},
          "output_type": "display_data"
        }
      ],
      "source": [
        "%%manim -qm -v WARNING L1_yesRotate\n",
        "\n",
        "class L1_yesRotate(Scene):\n",
        "    def construct(self):\n",
        "        dot = Dot(ORIGIN)\n",
        "\n",
        "        numberplane = NumberPlane()\n",
        "        #numberplane.rotate(45*DEGREES)\n",
        "\n",
        "        origin_text = Text('(0, 0)').next_to(dot, DOWN)\n",
        "\n",
        "        ax_1 = Axes(\n",
        "            x_range=[-10, 10, 5],\n",
        "            y_range=[-10, 10, 5],\n",
        "            x_length=10,\n",
        "            y_length=10,\n",
        "            tips=False,\n",
        "        )\n",
        "\n",
        "        x_vals = [0, 5, 0, -5, 0]\n",
        "        y_vals = [5, 0, -5, 0, 5]\n",
        "        graph_1 = ax_1.plot_line_graph(x_values=x_vals, y_values=y_vals, line_color=RED_C)\n",
        "        graph_1.rotate(45*DEGREES)\n",
        "\n",
        "        dot_1 = Dot((1.768, 1.768, 0), color=GREEN)\n",
        "        dot_with_label_1 = Group(dot_1, Tex(\"A\", font_size=50).next_to(dot_1, RIGHT))\n",
        "        dot_2 = Dot((1.768, 0.7, 0), color=GREEN)\n",
        "        dot_with_label_2 = Group(dot_2, Tex(\"B\", font_size=50).next_to(dot_2, RIGHT))\n",
        "        dot_3 = Dot((1, 1.5, 0), color=ORANGE)\n",
        "        dot_with_label_3 = Group(dot_3, Tex(\"C\", font_size=50).next_to(dot_3, LEFT))\n",
        "\n",
        "        ax_1.rotate(45*DEGREES)\n",
        "        #ax_1.move_to(dot_3)\n",
        "\n",
        "        self.add(graph_1)\n",
        "        self.add(ax_1)\n",
        "        self.add(numberplane, dot, origin_text)\n",
        "        self.add(dot_1, dot_2, dot_3)\n",
        "        self.add(dot_with_label_1, dot_with_label_2, dot_with_label_3)\n"
      ]
    },
    {
      "cell_type": "markdown",
      "metadata": {
        "id": "sLN8Ybnt9m5v"
      },
      "source": [
        "## Question 3\n",
        "\n",
        "Which of the following statements about $k$-Nearest Neighbor ($k$-NN) are true in a classification setting, and for all $k$? Select all that apply.\n",
        "1. The decision boundary (hyperplane between classes in feature space) of the k-NN classifier is linear.\n",
        "2. The training error of a 1-NN will always be lower than that of 5-NN.\n",
        "3. The test error of a 1-NN will always be lower than that of a 5-NN.\n",
        "4. The time needed to classify a test example with the k-NN classifier grows with the size of the training set.\n",
        "5. None of the above.\n",
        "\n",
        "*Your Answer:* 2, 4\n",
        "\n",
        "\n",
        "*Your Explanation:*\n",
        "1. False: The decision boundary is not linear, but rather a polygonal line. By definition, it is not linear because it has a complex shape within an n-dimensional space. \n",
        "2. True: Training error is defined as a difference between actual and predicted values, where training data is used to make predictions and the expected output label is used. In the case of the `1-NN` model, predictions are made based on the nearest image in the training set, while in the case of a `5-NN`, predictions are based on the first 5 nearest images. It is possible for a training sample to lead to a training error. \n",
        "3. False: A simple explanation for this is that, with 5 neighbors, the model can still make a correct prediction even if it misclassifies a test sample with the wrong label. The `1-NN` model has no room for error. \n",
        "4. True: Each test sample is compared to `k` neighbors, so the more hyperparameters `k` increase, the longer it takes to make a prediction. \n",
        "5. False: This is because two of the above statements are false.\n",
        "\n"
      ]
    }
  ],
  "metadata": {
    "colab": {
      "provenance": []
    },
    "kernelspec": {
      "display_name": "PythonTeXManim",
      "language": "python",
      "name": "python3"
    },
    "language_info": {
      "codemirror_mode": {
        "name": "ipython",
        "version": 3
      },
      "file_extension": ".py",
      "mimetype": "text/x-python",
      "name": "python",
      "nbconvert_exporter": "python",
      "pygments_lexer": "ipython3",
      "version": "3.11.5"
    }
  },
  "nbformat": 4,
  "nbformat_minor": 0
}
